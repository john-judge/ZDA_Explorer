{
 "cells": [
  {
   "cell_type": "code",
   "execution_count": 1,
   "id": "2dccbd67",
   "metadata": {},
   "outputs": [
    {
     "name": "stdout",
     "output_type": "stream",
     "text": [
      "Using matplotlib backend: Qt5Agg\n"
     ]
    }
   ],
   "source": [
    "from lib.utilities import *\n",
    "%matplotlib"
   ]
  },
  {
   "cell_type": "code",
   "execution_count": 2,
   "id": "bd4e640c",
   "metadata": {},
   "outputs": [],
   "source": [
    "############### User Configuration ###############\n",
    "##################################################\n",
    "\n",
    "datadir = \".\" # All ZDA files in this directory + subdirectories will be loaded\n",
    "selected_filename = \"05_01_05\" # focus for subsequent analysis"
   ]
  },
  {
   "cell_type": "code",
   "execution_count": 3,
   "id": "c9418368",
   "metadata": {},
   "outputs": [
    {
     "name": "stdout",
     "output_type": "stream",
     "text": [
      "./zda_targets/05_01_05.zda\n",
      "Number of files loaded: 1\n"
     ]
    }
   ],
   "source": [
    "############## Driver script: begin ##############\n",
    "##################################################\n",
    "\n",
    "# Load data\n",
    "data_loader = DataLoader()\n",
    "data_loader.load_all_zda(data_dir=datadir + \"/zda_targets\")\n",
    "\n",
    "# Select data of interest        \n",
    "selected_data = data_loader.select_data_by_keyword(selected_filename)\n",
    "\n",
    "# Clip to the time range 20 - 90 ms (get rid of the camera \"foot\", look at prestim only)\n",
    "if selected_data is not None:\n",
    "    \n",
    "    selected_data.clip_data(t_range=[40,180])\n",
    "    raw_data, meta, rli = selected_data.get_data(trial=0), selected_data.get_meta(), selected_data.get_rli()\n",
    "\n",
    "    # Need to subtract off the low-frequency voltage drift. First-order correction\n",
    "    tr = Tracer()\n",
    "    tr.correct_background(meta, raw_data)\n",
    "\n",
    "    #full trace\n",
    "    tr.plot_trace(raw_data[:,:,:], \n",
    "               40, \n",
    "               40, \n",
    "               meta['interval_between_samples'])\n",
    "else:\n",
    "    print(\"Filename containing '\" + selected_filename + \"' not found.\")"
   ]
  },
  {
   "cell_type": "code",
   "execution_count": 4,
   "id": "8c409826",
   "metadata": {},
   "outputs": [],
   "source": [
    "# Frequency Decompositions\n",
    "\n",
    "freq_analzyer = FreqAnalyzer()\n",
    "\n",
    "x_fft = freq_analzyer.compute_fft_binning(meta)\n",
    "y_fft_avg = None\n",
    "n = raw_data.shape[0] * raw_data.shape[1]\n",
    "\n",
    "for x in range(raw_data.shape[0]):\n",
    "    for y in range(raw_data.shape[1]):\n",
    "            \n",
    "            y_fft = freq_analzyer.decompose_trace_frequencies(meta, \n",
    "                                                raw_data[x,y,:],\n",
    "                                                x_fft=x_fft,\n",
    "                                                lower_freq=0,\n",
    "                                                upper_freq=50,\n",
    "                                                y_max=2000,\n",
    "                                                plot=False)\n",
    "            if y_fft_avg is None:\n",
    "                y_fft_avg = y_fft / n\n",
    "            else:\n",
    "                y_fft_avg += y_fft / n"
   ]
  },
  {
   "cell_type": "code",
   "execution_count": 5,
   "id": "2e21f2a9",
   "metadata": {},
   "outputs": [],
   "source": [
    "# Mean frequency decomposition (averaged by frequency over all pixels)\n",
    "plt.plot(x_fft, \n",
    "         np.abs(y_fft_avg))\n",
    "plt.xlim([10, 400])\n",
    "plt.ylim([500,600])\n",
    "plt.title(\"Average Frequency Decomposition: All Pixels\")\n",
    "plt.show()\n",
    "plt.savefig(selected_filename + \"_avg_freq.jpg\")"
   ]
  },
  {
   "cell_type": "code",
   "execution_count": 6,
   "id": "61a98195",
   "metadata": {},
   "outputs": [
    {
     "name": "stdout",
     "output_type": "stream",
     "text": [
      "max SNR: 82.9422746304119 \n",
      "min SNR: 29.022573069329045\n"
     ]
    }
   ],
   "source": [
    "# Average only for high-SNR and/or ROIs\n",
    "\n",
    "trial = selected_data.get_data(trial=0)\n",
    "asnr = AnalyzerSNR(trial)\n",
    "\n",
    "snr = asnr.get_snr(plot=True)\n",
    "\n",
    "print(\"max SNR:\", np.max(snr), \n",
    "      \"\\nmin SNR:\", np.min(snr))"
   ]
  },
  {
   "cell_type": "code",
   "execution_count": 7,
   "id": "eb38aa2b",
   "metadata": {},
   "outputs": [
    {
     "data": {
      "text/plain": [
       "array([[4, 3, 3, ..., 1, 1, 3],\n",
       "       [3, 3, 3, ..., 1, 3, 1],\n",
       "       [3, 3, 3, ..., 1, 1, 1],\n",
       "       ...,\n",
       "       [2, 4, 1, ..., 1, 4, 4],\n",
       "       [4, 1, 1, ..., 1, 4, 1],\n",
       "       [4, 4, 4, ..., 4, 4, 1]])"
      ]
     },
     "execution_count": 7,
     "metadata": {},
     "output_type": "execute_result"
    }
   ],
   "source": [
    "# cluster by SNR and display\n",
    "asnr.cluster_on_snr(plot=True)"
   ]
  },
  {
   "cell_type": "code",
   "execution_count": 10,
   "id": "182995f7",
   "metadata": {},
   "outputs": [
    {
     "name": "stdout",
     "output_type": "stream",
     "text": [
      "[52.15538164389097, 60.02277505201125, 46.82505055769709, 57.851747766868996] [[ 8 12 15 ... 78 78 78]\n",
      " [45 43 52 ... 62 64 65]]\n"
     ]
    }
   ],
   "source": [
    " # k=0 is highest SNR cluster (indices returned)\n",
    "highest_snr_cluster = asnr.get_kth_cluster(0, plot=True)\n",
    "avg_snr_by_cluster = asnr.get_average_snr_by_cluster()\n",
    "print(avg_snr_by_cluster, highest_snr_cluster)"
   ]
  },
  {
   "cell_type": "code",
   "execution_count": 14,
   "id": "3da20e7e",
   "metadata": {},
   "outputs": [],
   "source": [
    "# Frequency Decompositions for 3 highest-SNR clusters\n",
    "for k in range(3):\n",
    "    snr_cluster = asnr.get_kth_cluster(k, plot=False)\n",
    "    freq_analzyer = FreqAnalyzer()\n",
    "\n",
    "    x_fft = freq_analzyer.compute_fft_binning(meta)\n",
    "    y_fft_avg = None\n",
    "    n = raw_data.shape[0] * raw_data.shape[1]\n",
    "\n",
    "    for i in range(snr_cluster.shape[1]):\n",
    "        x = snr_cluster[0][i]\n",
    "        y = snr_cluster[1][i]\n",
    "\n",
    "        y_fft = freq_analzyer.decompose_trace_frequencies(meta, \n",
    "                                            raw_data[x,y,:],\n",
    "                                            x_fft=x_fft,\n",
    "                                            lower_freq=0,\n",
    "                                            upper_freq=50,\n",
    "                                            y_max=2000,\n",
    "                                            plot=False)\n",
    "        if y_fft_avg is None:\n",
    "            y_fft_avg = y_fft / n\n",
    "        else:\n",
    "            y_fft_avg += y_fft / n\n",
    "\n",
    "    # Mean frequency decomposition (averaged by frequency over all pixels)\n",
    "    plt.plot(x_fft, \n",
    "             np.abs(y_fft_avg),\n",
    "             label=str(k+1) +\"th-highest SNR cluster\")\n",
    "plt.xlim([10, 400])\n",
    "plt.ylim([100,250])\n",
    "plt.legend()\n",
    "plt.title(\"Average Frequency Decomposition: SNR Clusters\")\n",
    "plt.show()\n",
    "plt.savefig(selected_filename + \"_all_freq.jpg\")"
   ]
  },
  {
   "cell_type": "code",
   "execution_count": null,
   "id": "d45fd946",
   "metadata": {},
   "outputs": [],
   "source": []
  }
 ],
 "metadata": {
  "kernelspec": {
   "display_name": "Python 3",
   "language": "python",
   "name": "python3"
  },
  "language_info": {
   "codemirror_mode": {
    "name": "ipython",
    "version": 3
   },
   "file_extension": ".py",
   "mimetype": "text/x-python",
   "name": "python",
   "nbconvert_exporter": "python",
   "pygments_lexer": "ipython3",
   "version": "3.9.4"
  }
 },
 "nbformat": 4,
 "nbformat_minor": 5
}
