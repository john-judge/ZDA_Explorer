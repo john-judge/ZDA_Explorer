{
 "cells": [
  {
   "cell_type": "code",
   "execution_count": 1,
   "id": "2dccbd67",
   "metadata": {},
   "outputs": [
    {
     "name": "stdout",
     "output_type": "stream",
     "text": [
      "Using matplotlib backend: Qt5Agg\n"
     ]
    }
   ],
   "source": [
    "from utilities import *\n",
    "%matplotlib"
   ]
  },
  {
   "cell_type": "code",
   "execution_count": 2,
   "id": "bd4e640c",
   "metadata": {},
   "outputs": [],
   "source": [
    "############### User Configuration ###############\n",
    "##################################################\n",
    "\n",
    "datadir = \".\" # All ZDA files in this directory + subdirectories are loaded\n",
    "selected_filename = \"05_01_05\" # focus for subsequent analysis"
   ]
  },
  {
   "cell_type": "code",
   "execution_count": 5,
   "id": "c9418368",
   "metadata": {},
   "outputs": [
    {
     "name": "stdout",
     "output_type": "stream",
     "text": [
      "./zda_targets/05_01_05.zda\n",
      "Number of files loaded: 1\n"
     ]
    }
   ],
   "source": [
    "############## Driver script: begin ##############\n",
    "##################################################\n",
    "\n",
    "# Load data\n",
    "data_loader = DataLoader()\n",
    "data_loader.load_all_zda(data_dir=datadir + \"/zda_targets\")\n",
    "\n",
    "# Select data of interest        \n",
    "selected_data = data_loader.select_data_by_keyword(selected_filename)\n",
    "\n",
    "# Clip to the time range 20 - 90 ms (get rid of the camera \"foot\", look at prestim only)\n",
    "selected_data.clip_data(t_range=[40,180])\n",
    "\n",
    "raw_data, meta, rli = selected_data.get_data(trial=0), selected_data.get_meta(), selected_data.get_rli()\n",
    "\n",
    "# Need to subtract off the low-frequency voltage drift. First-order correction\n",
    "tr = Tracer()\n",
    "tr.correct_background(meta, raw_data)\n",
    "\n",
    "#full trace\n",
    "tr.plot_trace(raw_data[:,:,:], \n",
    "           40, \n",
    "           40, \n",
    "           meta['interval_between_samples'])"
   ]
  },
  {
   "cell_type": "code",
   "execution_count": 8,
   "id": "8c409826",
   "metadata": {},
   "outputs": [],
   "source": [
    "# Frequency Decompositions\n",
    "\n",
    "freq_analzyer = FreqAnalyzer()\n",
    "\n",
    "x_fft = freq_analzyer.compute_fft_binning(meta)\n",
    "y_fft_avg = None\n",
    "n = raw_data.shape[0] * raw_data.shape[1]\n",
    "\n",
    "for x in range(raw_data.shape[0]):\n",
    "    for y in range(raw_data.shape[1]):\n",
    "            \n",
    "            y_fft = freq_analzyer.decompose_trace_frequencies(meta, \n",
    "                                                raw_data[x,y,:],\n",
    "                                                x_fft=x_fft,\n",
    "                                                lower_freq=0,\n",
    "                                                upper_freq=50,\n",
    "                                                y_max=2000,\n",
    "                                                plot=False)\n",
    "            if y_fft_avg is None:\n",
    "                y_fft_avg = y_fft / n\n",
    "            else:\n",
    "                y_fft_avg += y_fft / n"
   ]
  },
  {
   "cell_type": "code",
   "execution_count": 9,
   "id": "2e21f2a9",
   "metadata": {},
   "outputs": [],
   "source": [
    "# Mean frequency decomposition (averaged by frequency over all pixels)\n",
    "plt.plot(x_fft, \n",
    "         np.abs(y_fft_avg))\n",
    "plt.xlim([10, 400])\n",
    "plt.ylim([500,600])\n",
    "plt.title(\"Average Frequency Decomposition: All Pixels\")\n",
    "plt.show()\n",
    "plt.savefig(selected_filename + \"_avg_freq.jpg\")"
   ]
  },
  {
   "cell_type": "code",
   "execution_count": null,
   "id": "61a98195",
   "metadata": {},
   "outputs": [],
   "source": [
    "# Average only for high-SNR and/or ROIs\n",
    "# .... TO DO\n",
    "asnr = AnalyzerSNR(trial)\n",
    "\n",
    "snr = asnr.get_snr(plot=True)\n",
    "\n",
    "print(\"max SNR:\", np.max(snr), \"min SNR:\", np.min(snr))\n",
    "asnr.cluster_on_snr(plot=True)"
   ]
  }
 ],
 "metadata": {
  "kernelspec": {
   "display_name": "Python 3",
   "language": "python",
   "name": "python3"
  },
  "language_info": {
   "codemirror_mode": {
    "name": "ipython",
    "version": 3
   },
   "file_extension": ".py",
   "mimetype": "text/x-python",
   "name": "python",
   "nbconvert_exporter": "python",
   "pygments_lexer": "ipython3",
   "version": "3.9.4"
  }
 },
 "nbformat": 4,
 "nbformat_minor": 5
}
