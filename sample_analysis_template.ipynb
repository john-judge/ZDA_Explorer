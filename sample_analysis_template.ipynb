{
 "cells": [
  {
   "cell_type": "code",
   "execution_count": null,
   "id": "2dccbd67",
   "metadata": {},
   "outputs": [],
   "source": [
    "from utilities import *"
   ]
  },
  {
   "cell_type": "code",
   "execution_count": null,
   "id": "bd4e640c",
   "metadata": {},
   "outputs": [],
   "source": [
    "############### User Configuration ###############\n",
    "##################################################\n",
    "\n",
    "datadir = \".\" # All ZDA files in this directory + subdirectories are loaded\n",
    "selected_filename = \"05_01_05\" # focus for subsequent analysis\n",
    "\n",
    "# Spatial area to investigate\n",
    "y_range = [45,-2] #[10, 40]\n",
    "x_range = [0,-2] #[41, 79]\n",
    "\n",
    "# Temporal area to investigate\n",
    "time_window = [40,-1]"
   ]
  },
  {
   "cell_type": "code",
   "execution_count": null,
   "id": "c9418368",
   "metadata": {},
   "outputs": [],
   "source": [
    "############## Driver script: begin ##############\n",
    "##################################################\n",
    "\n",
    "# Load data\n",
    "processed = [] # to avoid re-processing later\n",
    "all_data = load_all_zda(data_dir=datadir + \"/zda_targets\")\n",
    "\n",
    "# Selected data of interest\n",
    "for file in all_data:\n",
    "    if selected_filename in file[0]:\n",
    "        selected_filename = file[0]\n",
    "        \n",
    "raw_data = all_data[file[0], 'data']\n",
    "meta = all_data[file[0], 'meta']\n",
    "rli = all_data[file[0], 'rli']\n",
    "        "
   ]
  }
 ],
 "metadata": {
  "kernelspec": {
   "display_name": "Python 3",
   "language": "python",
   "name": "python3"
  },
  "language_info": {
   "codemirror_mode": {
    "name": "ipython",
    "version": 3
   },
   "file_extension": ".py",
   "mimetype": "text/x-python",
   "name": "python",
   "nbconvert_exporter": "python",
   "pygments_lexer": "ipython3",
   "version": "3.9.4"
  }
 },
 "nbformat": 4,
 "nbformat_minor": 5
}
